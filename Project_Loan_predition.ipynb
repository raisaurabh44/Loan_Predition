{
  "nbformat": 4,
  "nbformat_minor": 0,
  "metadata": {
    "colab": {
      "provenance": [],
      "authorship_tag": "ABX9TyOvQRNN1z958C3plF0fBdoV",
      "include_colab_link": true
    },
    "kernelspec": {
      "name": "python3",
      "display_name": "Python 3"
    },
    "language_info": {
      "name": "python"
    }
  },
  "cells": [
    {
      "cell_type": "markdown",
      "metadata": {
        "id": "view-in-github",
        "colab_type": "text"
      },
      "source": [
        "<a href=\"https://colab.research.google.com/github/raisaurabh44/Practice_001/blob/main/Project_Loan_predition.ipynb\" target=\"_parent\"><img src=\"https://colab.research.google.com/assets/colab-badge.svg\" alt=\"Open In Colab\"/></a>"
      ]
    },
    {
      "cell_type": "markdown",
      "source": [
        "Loading Libraries"
      ],
      "metadata": {
        "id": "pLw1q1_4sT4u"
      }
    },
    {
      "cell_type": "code",
      "execution_count": 11,
      "metadata": {
        "id": "StBMs1mUsD91"
      },
      "outputs": [],
      "source": [
        "import os # path to file\n",
        "import numpy as np # linear algebra\n",
        "import pandas as pd # data processing\n",
        "import warnings # warning filter\n",
        "\n",
        "# Pllot libraries\n",
        "import matplotlib.pyplot as plt\n",
        "import seaborn as sns\n",
        "\n",
        "# relevent ML libraries\n",
        "from sklearn.preprocessing import LabelEncoder\n",
        "from sklearn.model_selection import train_test_split\n",
        "from sklearn.metrics import confusion_matrix\n",
        "from sklearn.metrics import classification_report\n",
        "from sklearn.metrics import accuracy_score\n",
        "\n",
        "# ML models\n",
        "from xgboost import XGBClassifier\n",
        "from sklearn.tree import DecisionTreeClassifier\n",
        "from sklearn.ensemble import RandomForestClassifier\n",
        "from sklearn.linear_model import LogisticRegression\n",
        "\n",
        "#defaut theam\n",
        "sns.set(context='notebook', style='darkgrid', palette='deep', font='sans-serif', font_scale=1, color_codes=False, rc=None)\n",
        "\n",
        "\n",
        "#Warning handle\n",
        "warnings.filterwarnings('ignore')"
      ]
    },
    {
      "cell_type": "code",
      "source": [],
      "metadata": {
        "id": "wOj_4X4WvwLB",
        "colab": {
          "base_uri": "https://localhost:8080/"
        },
        "outputId": "0ea21937-e57a-463f-9fda-55a37e9205cd"
      },
      "execution_count": 5,
      "outputs": [
        {
          "output_type": "stream",
          "name": "stdout",
          "text": [
            "\u001b[31mERROR: Could not find a version that satisfies the requirement warning (from versions: none)\u001b[0m\u001b[31m\n",
            "\u001b[0m\u001b[31mERROR: No matching distribution found for warning\u001b[0m\u001b[31m\n",
            "\u001b[0m"
          ]
        }
      ]
    },
    {
      "cell_type": "markdown",
      "source": [
        "1Cleaning\n",
        "Null valus / dropna / fill na\n",
        "duplicates drop\n",
        "check data types for integer or object\n",
        "\n",
        "2 outliers\n",
        "drop or caping ( IQR and vincerisation )\n",
        "\n",
        "3 EDA / Inferintial statistics (Linear regression , featire selection , anove )\n",
        "\n",
        "Grouping/Filtering/Visulization\n",
        "\n",
        "\n",
        "\n",
        "\n",
        "\n"
      ],
      "metadata": {
        "id": "dHd5BNgi13Cd"
      }
    }
  ]
}
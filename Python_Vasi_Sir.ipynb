{
  "nbformat": 4,
  "nbformat_minor": 0,
  "metadata": {
    "colab": {
      "provenance": [],
      "authorship_tag": "ABX9TyNjz0gI76KSKupZKlNM3qRx",
      "include_colab_link": true
    },
    "kernelspec": {
      "name": "python3",
      "display_name": "Python 3"
    },
    "language_info": {
      "name": "python"
    }
  },
  "cells": [
    {
      "cell_type": "markdown",
      "metadata": {
        "id": "view-in-github",
        "colab_type": "text"
      },
      "source": [
        "<a href=\"https://colab.research.google.com/github/raisaurabh44/Practice_001/blob/main/Python_Vasi_Sir.ipynb\" target=\"_parent\"><img src=\"https://colab.research.google.com/assets/colab-badge.svg\" alt=\"Open In Colab\"/></a>"
      ]
    },
    {
      "cell_type": "code",
      "execution_count": 3,
      "metadata": {
        "colab": {
          "base_uri": "https://localhost:8080/"
        },
        "id": "NO2LPXXYg3QU",
        "outputId": "8cbb9785-7cbb-462b-ac9c-61d48958535e"
      },
      "outputs": [
        {
          "output_type": "stream",
          "name": "stdout",
          "text": [
            "India won world cup\n"
          ]
        }
      ],
      "source": [
        "print('India won world cup')"
      ]
    },
    {
      "cell_type": "code",
      "source": [
        "print(10+5)\n",
        "print(10-5)"
      ],
      "metadata": {
        "colab": {
          "base_uri": "https://localhost:8080/"
        },
        "id": "zlKeNaPyhkrl",
        "outputId": "47999fe8-6adb-4bbb-c9bf-1a89b4e533e5"
      },
      "execution_count": 4,
      "outputs": [
        {
          "output_type": "stream",
          "name": "stdout",
          "text": [
            "15\n",
            "5\n"
          ]
        }
      ]
    },
    {
      "cell_type": "code",
      "source": [
        "#variables\n",
        "num = 10 # 4 bytes\n",
        "print(id(num),num) #-> id->address\n",
        "\n",
        "num =20\n",
        "print(id(num),num)\n"
      ],
      "metadata": {
        "colab": {
          "base_uri": "https://localhost:8080/"
        },
        "id": "jQ5sTfSnhrpE",
        "outputId": "b3bb9f8c-7f6b-47d1-fe4f-bc436d410b04"
      },
      "execution_count": 5,
      "outputs": [
        {
          "output_type": "stream",
          "name": "stdout",
          "text": [
            "137851381301776 10\n",
            "137851381302096 20\n"
          ]
        }
      ]
    },
    {
      "cell_type": "code",
      "source": [
        "# data types\n",
        "# Python is a -> Dynamically typed language\n",
        "num =10\n",
        "print(num, type(num)) # -> integer -> 4 bytes of space\n",
        "\n",
        "num =10.5\n",
        "print(num,type(num)) # float -> 8bytes of memory\n",
        "\n",
        "num = 'saurabh' # each char takes 1 bytes\n",
        "print(num, type(num)) # string of -> 7 bytes\n",
        "\n",
        "num = True # False\n",
        "print(num,type(num)) # boolean -> 1 bytes each"
      ],
      "metadata": {
        "colab": {
          "base_uri": "https://localhost:8080/"
        },
        "id": "X6g_f0FTiUrA",
        "outputId": "807ba45c-aa93-4dca-9985-76ac7ad31d3e"
      },
      "execution_count": 6,
      "outputs": [
        {
          "output_type": "stream",
          "name": "stdout",
          "text": [
            "10 <class 'int'>\n",
            "10.5 <class 'float'>\n",
            "saurabh <class 'str'>\n",
            "True <class 'bool'>\n"
          ]
        }
      ]
    },
    {
      "cell_type": "code",
      "source": [
        "# naming convention\n",
        "\n",
        "#1. Pascal case -> FirstName , LastNameOfAPerson -> class it is used\n",
        "#2. Camel case -> firstName , lastNamme , lastNameOfAPerson -> not recommended\n",
        "#3. snake case -> first_name, last_name , last_name_of_a_person -> variables , functions\n"
      ],
      "metadata": {
        "id": "l0Cgoj4ck17P"
      },
      "execution_count": 7,
      "outputs": []
    },
    {
      "cell_type": "code",
      "source": [
        "num1 =10\n",
        "num2 = 15\n",
        "print(num1 + num2)\n",
        "\n",
        "\n"
      ],
      "metadata": {
        "colab": {
          "base_uri": "https://localhost:8080/"
        },
        "id": "1VggYXcWmALh",
        "outputId": "48058cde-e2f6-4535-e7a0-09b9997a915e"
      },
      "execution_count": 8,
      "outputs": [
        {
          "output_type": "stream",
          "name": "stdout",
          "text": [
            "25\n"
          ]
        }
      ]
    },
    {
      "cell_type": "code",
      "source": [
        "num1= '10'\n",
        "num2= 20\n",
        "print(num1+num2) # type error because number cant be added to a string"
      ],
      "metadata": {
        "colab": {
          "base_uri": "https://localhost:8080/",
          "height": 210
        },
        "id": "2Jpav7VWmYaF",
        "outputId": "16decc87-6543-422d-e190-dd1aff4f0065"
      },
      "execution_count": 9,
      "outputs": [
        {
          "output_type": "error",
          "ename": "TypeError",
          "evalue": "ignored",
          "traceback": [
            "\u001b[0;31m---------------------------------------------------------------------------\u001b[0m",
            "\u001b[0;31mTypeError\u001b[0m                                 Traceback (most recent call last)",
            "\u001b[0;32m<ipython-input-9-aa9b473bf4eb>\u001b[0m in \u001b[0;36m<cell line: 3>\u001b[0;34m()\u001b[0m\n\u001b[1;32m      1\u001b[0m \u001b[0mnum1\u001b[0m\u001b[0;34m=\u001b[0m \u001b[0;34m'10'\u001b[0m\u001b[0;34m\u001b[0m\u001b[0;34m\u001b[0m\u001b[0m\n\u001b[1;32m      2\u001b[0m \u001b[0mnum2\u001b[0m\u001b[0;34m=\u001b[0m \u001b[0;36m20\u001b[0m\u001b[0;34m\u001b[0m\u001b[0;34m\u001b[0m\u001b[0m\n\u001b[0;32m----> 3\u001b[0;31m \u001b[0mprint\u001b[0m\u001b[0;34m(\u001b[0m\u001b[0mnum1\u001b[0m\u001b[0;34m+\u001b[0m\u001b[0mnum2\u001b[0m\u001b[0;34m)\u001b[0m \u001b[0;31m# type error because number cant be added to a string\u001b[0m\u001b[0;34m\u001b[0m\u001b[0;34m\u001b[0m\u001b[0m\n\u001b[0m",
            "\u001b[0;31mTypeError\u001b[0m: can only concatenate str (not \"int\") to str"
          ]
        }
      ]
    },
    {
      "cell_type": "code",
      "source": [
        "num1= '10'\n",
        "num2= '20'\n",
        "print(num1+num2) # no error but 2 string get concatinated"
      ],
      "metadata": {
        "id": "rrLBv7Vumkaw"
      },
      "execution_count": null,
      "outputs": []
    },
    {
      "cell_type": "code",
      "source": [
        "# Bool + int -> Boolean will be trated as int ( True ->1 , False -> 0)\n",
        "num1= True\n",
        "num2= 20\n",
        "print(num1+num2)"
      ],
      "metadata": {
        "colab": {
          "base_uri": "https://localhost:8080/"
        },
        "id": "lelw9PKCnRSB",
        "outputId": "3dacf85c-7e9d-459e-d1af-7ffdcfc0c77a"
      },
      "execution_count": 10,
      "outputs": [
        {
          "output_type": "stream",
          "name": "stdout",
          "text": [
            "21\n"
          ]
        }
      ]
    },
    {
      "cell_type": "code",
      "source": [
        "# int -> bool => it will be 0 for false only , and non zero or 1 for all other\n",
        "print(bool(0), bool (-1) , bool (4) , bool(5.5))"
      ],
      "metadata": {
        "colab": {
          "base_uri": "https://localhost:8080/"
        },
        "id": "rzoS3rn1nqzt",
        "outputId": "f3349455-e6aa-48df-a6f2-a559579ccaab"
      },
      "execution_count": 11,
      "outputs": [
        {
          "output_type": "stream",
          "name": "stdout",
          "text": [
            "False True True True\n"
          ]
        }
      ]
    },
    {
      "cell_type": "code",
      "source": [
        "# Ppython is slow but memory efficient\n",
        "\n",
        "a=10\n",
        "b=10\n",
        "c=10\n",
        "d=10\n",
        "print(a, id(a))\n",
        "print(b, id(b))\n",
        "print(c, id(c))\n",
        "print(d, id(d)) # upto 256 python will use same memory\n",
        "\n",
        "a= 257\n",
        "b= 257\n",
        "print(a, id(a))\n",
        "print(b, id(b))"
      ],
      "metadata": {
        "colab": {
          "base_uri": "https://localhost:8080/"
        },
        "id": "4l1yA8Buogyj",
        "outputId": "6a5ff653-ac89-465e-8820-d459898d2886"
      },
      "execution_count": 12,
      "outputs": [
        {
          "output_type": "stream",
          "name": "stdout",
          "text": [
            "10 137851381301776\n",
            "10 137851381301776\n",
            "10 137851381301776\n",
            "10 137851381301776\n",
            "257 137850887255024\n",
            "257 137850887256752\n"
          ]
        }
      ]
    },
    {
      "cell_type": "code",
      "source": [
        "# but we can still attach the same memory locatipn if we want to we can use sys library\n",
        "import sys\n",
        "\n",
        "a= sys.intern(str(257))\n",
        "b= sys.intern(str(257))\n",
        "\n",
        "print(a, id(a))\n",
        "print(b, id(b))"
      ],
      "metadata": {
        "colab": {
          "base_uri": "https://localhost:8080/"
        },
        "id": "3EipKRJIpgzk",
        "outputId": "b4b708e7-d136-42d2-9b40-ce4290220a46"
      },
      "execution_count": 13,
      "outputs": [
        {
          "output_type": "stream",
          "name": "stdout",
          "text": [
            "257 137850885976688\n",
            "257 137850885976688\n"
          ]
        }
      ]
    },
    {
      "cell_type": "code",
      "source": [
        "# Because python also consider string as variable it will be get same memory loacation , untill python understood it a string not a variable , which was done by using space\n",
        "\n",
        "fname = 'saurabh_is_good'\n",
        "lname = 'saurabh_is_good'\n",
        "print(fname, id(fname))\n",
        "print(lname, id(lname))\n",
        "\n",
        "fname = 'saurabh is good'\n",
        "lname = 'saurabh is good'\n",
        "print(fname, id(fname))\n",
        "print(lname, id(lname))"
      ],
      "metadata": {
        "colab": {
          "base_uri": "https://localhost:8080/"
        },
        "id": "Zmly6ZF8qWHw",
        "outputId": "adae63ea-4c02-44f8-af0f-f497c7db4cef"
      },
      "execution_count": 14,
      "outputs": [
        {
          "output_type": "stream",
          "name": "stdout",
          "text": [
            "saurabh_is_good 137850610366000\n",
            "saurabh_is_good 137850610366000\n",
            "saurabh is good 137850610365808\n",
            "saurabh is good 137850610680496\n"
          ]
        }
      ]
    },
    {
      "cell_type": "code",
      "source": [
        "# Operaters\n",
        "# 1. Arithmetic operators -> *,+,-,/,//,**,%\n",
        "\n",
        "print(10+5)\n",
        "print(10-5)\n",
        "print(10*5)\n",
        "print(12/5) # decimal\n",
        "print(12//5) # double or floor division\n",
        "print(12%5) # modulus\n",
        "print(2**3)# exponentials -> 2^3=8\n"
      ],
      "metadata": {
        "colab": {
          "base_uri": "https://localhost:8080/"
        },
        "id": "NZsCsMMzrpyD",
        "outputId": "f577654f-fee0-491a-daf3-765024394200"
      },
      "execution_count": 15,
      "outputs": [
        {
          "output_type": "stream",
          "name": "stdout",
          "text": [
            "15\n",
            "5\n",
            "50\n",
            "2.4\n",
            "2\n",
            "2\n",
            "8\n"
          ]
        }
      ]
    },
    {
      "cell_type": "code",
      "source": [
        "print(13//3) # 4\n",
        "print(13%3) # 1\n",
        "\n",
        "# but in case of python floor division is done\n",
        "\n",
        "print(-13//3) # but here floor division values is used\n",
        "print(-13%3) # floor value is given (ceil (upper value), floor(Lower value))\n",
        "\n"
      ],
      "metadata": {
        "colab": {
          "base_uri": "https://localhost:8080/"
        },
        "id": "yA5xWtnGs1O9",
        "outputId": "7698db95-c789-4ea5-8062-ea103c492ab4"
      },
      "execution_count": 16,
      "outputs": [
        {
          "output_type": "stream",
          "name": "stdout",
          "text": [
            "4\n",
            "1\n",
            "-5\n",
            "2\n"
          ]
        }
      ]
    },
    {
      "cell_type": "code",
      "source": [
        "import math\n",
        "\n",
        "print(math.ceil(4.3))\n",
        "print(math.floor(4.3))\n",
        "\n",
        "print(math.ceil(4.000000000000001)) # python can only hndle 15 digits\n",
        "print(math.floor(4.999999999999999))"
      ],
      "metadata": {
        "colab": {
          "base_uri": "https://localhost:8080/"
        },
        "id": "nqUNCRl6tZg2",
        "outputId": "440ec66f-d91d-4cfd-ba14-5b78d89a8e73"
      },
      "execution_count": 17,
      "outputs": [
        {
          "output_type": "stream",
          "name": "stdout",
          "text": [
            "5\n",
            "4\n",
            "5\n",
            "4\n"
          ]
        }
      ]
    }
  ]
}
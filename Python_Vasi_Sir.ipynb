{
  "nbformat": 4,
  "nbformat_minor": 0,
  "metadata": {
    "colab": {
      "provenance": [],
      "authorship_tag": "ABX9TyPe4/ls08DsbqBN9t16WIw/",
      "include_colab_link": true
    },
    "kernelspec": {
      "name": "python3",
      "display_name": "Python 3"
    },
    "language_info": {
      "name": "python"
    }
  },
  "cells": [
    {
      "cell_type": "markdown",
      "metadata": {
        "id": "view-in-github",
        "colab_type": "text"
      },
      "source": [
        "<a href=\"https://colab.research.google.com/github/raisaurabh44/Practice_001/blob/main/Python_Vasi_Sir.ipynb\" target=\"_parent\"><img src=\"https://colab.research.google.com/assets/colab-badge.svg\" alt=\"Open In Colab\"/></a>"
      ]
    },
    {
      "cell_type": "code",
      "execution_count": null,
      "metadata": {
        "colab": {
          "base_uri": "https://localhost:8080/"
        },
        "id": "NO2LPXXYg3QU",
        "outputId": "8cbb9785-7cbb-462b-ac9c-61d48958535e"
      },
      "outputs": [
        {
          "output_type": "stream",
          "name": "stdout",
          "text": [
            "India won world cup\n"
          ]
        }
      ],
      "source": [
        "print('India won world cup')"
      ]
    },
    {
      "cell_type": "code",
      "source": [
        "print(10+5)\n",
        "print(10-5)"
      ],
      "metadata": {
        "colab": {
          "base_uri": "https://localhost:8080/"
        },
        "id": "zlKeNaPyhkrl",
        "outputId": "47999fe8-6adb-4bbb-c9bf-1a89b4e533e5"
      },
      "execution_count": null,
      "outputs": [
        {
          "output_type": "stream",
          "name": "stdout",
          "text": [
            "15\n",
            "5\n"
          ]
        }
      ]
    },
    {
      "cell_type": "code",
      "source": [
        "#variables\n",
        "num = 10 # 4 bytes\n",
        "print(id(num),num) #-> id->address\n",
        "\n",
        "num =20\n",
        "print(id(num),num)\n",
        "\n",
        "# extra unsued memory is cleared by Garbage collector (Mark and Sweep Algorithm)"
      ],
      "metadata": {
        "colab": {
          "base_uri": "https://localhost:8080/"
        },
        "id": "jQ5sTfSnhrpE",
        "outputId": "b3bb9f8c-7f6b-47d1-fe4f-bc436d410b04"
      },
      "execution_count": null,
      "outputs": [
        {
          "output_type": "stream",
          "name": "stdout",
          "text": [
            "137851381301776 10\n",
            "137851381302096 20\n"
          ]
        }
      ]
    },
    {
      "cell_type": "code",
      "source": [
        "# data types\n",
        "# Python is a -> Dynamically typed language\n",
        "num =10\n",
        "print(num, type(num)) # -> integer -> 4 bytes of space\n",
        "\n",
        "num =10.5\n",
        "print(num,type(num)) # float -> 8bytes of memory\n",
        "\n",
        "num = 'saurabh' # each char takes 1 bytes\n",
        "print(num, type(num)) # string of -> 7 bytes\n",
        "\n",
        "num = True # False\n",
        "print(num,type(num)) # boolean -> 1 bytes each"
      ],
      "metadata": {
        "colab": {
          "base_uri": "https://localhost:8080/"
        },
        "id": "X6g_f0FTiUrA",
        "outputId": "807ba45c-aa93-4dca-9985-76ac7ad31d3e"
      },
      "execution_count": null,
      "outputs": [
        {
          "output_type": "stream",
          "name": "stdout",
          "text": [
            "10 <class 'int'>\n",
            "10.5 <class 'float'>\n",
            "saurabh <class 'str'>\n",
            "True <class 'bool'>\n"
          ]
        }
      ]
    },
    {
      "cell_type": "code",
      "source": [
        "# naming convention\n",
        "\n",
        "#1. Pascal case -> FirstName , LastNameOfAPerson -> class it is used\n",
        "#2. Camel case -> firstName , lastNamme , lastNameOfAPerson -> not recommended\n",
        "#3. snake case -> first_name, last_name , last_name_of_a_person -> variables , functions\n"
      ],
      "metadata": {
        "id": "l0Cgoj4ck17P"
      },
      "execution_count": null,
      "outputs": []
    },
    {
      "cell_type": "code",
      "source": [
        "num1 =10\n",
        "num2 = 15\n",
        "print(num1 + num2)"
      ],
      "metadata": {
        "colab": {
          "base_uri": "https://localhost:8080/"
        },
        "id": "1VggYXcWmALh",
        "outputId": "48058cde-e2f6-4535-e7a0-09b9997a915e"
      },
      "execution_count": null,
      "outputs": [
        {
          "output_type": "stream",
          "name": "stdout",
          "text": [
            "25\n"
          ]
        }
      ]
    },
    {
      "cell_type": "code",
      "source": [
        "num1= '10'\n",
        "num2= 20\n",
        "print(num1+num2) # type error because number cant be added to a string"
      ],
      "metadata": {
        "colab": {
          "base_uri": "https://localhost:8080/",
          "height": 210
        },
        "id": "2Jpav7VWmYaF",
        "outputId": "16decc87-6543-422d-e190-dd1aff4f0065"
      },
      "execution_count": null,
      "outputs": [
        {
          "output_type": "error",
          "ename": "TypeError",
          "evalue": "ignored",
          "traceback": [
            "\u001b[0;31m---------------------------------------------------------------------------\u001b[0m",
            "\u001b[0;31mTypeError\u001b[0m                                 Traceback (most recent call last)",
            "\u001b[0;32m<ipython-input-9-aa9b473bf4eb>\u001b[0m in \u001b[0;36m<cell line: 3>\u001b[0;34m()\u001b[0m\n\u001b[1;32m      1\u001b[0m \u001b[0mnum1\u001b[0m\u001b[0;34m=\u001b[0m \u001b[0;34m'10'\u001b[0m\u001b[0;34m\u001b[0m\u001b[0;34m\u001b[0m\u001b[0m\n\u001b[1;32m      2\u001b[0m \u001b[0mnum2\u001b[0m\u001b[0;34m=\u001b[0m \u001b[0;36m20\u001b[0m\u001b[0;34m\u001b[0m\u001b[0;34m\u001b[0m\u001b[0m\n\u001b[0;32m----> 3\u001b[0;31m \u001b[0mprint\u001b[0m\u001b[0;34m(\u001b[0m\u001b[0mnum1\u001b[0m\u001b[0;34m+\u001b[0m\u001b[0mnum2\u001b[0m\u001b[0;34m)\u001b[0m \u001b[0;31m# type error because number cant be added to a string\u001b[0m\u001b[0;34m\u001b[0m\u001b[0;34m\u001b[0m\u001b[0m\n\u001b[0m",
            "\u001b[0;31mTypeError\u001b[0m: can only concatenate str (not \"int\") to str"
          ]
        }
      ]
    },
    {
      "cell_type": "code",
      "source": [
        "num1= '10'\n",
        "num2= '20'\n",
        "print(num1+num2) # no error but 2 string get concatinated"
      ],
      "metadata": {
        "id": "rrLBv7Vumkaw"
      },
      "execution_count": null,
      "outputs": []
    },
    {
      "cell_type": "code",
      "source": [
        "# Bool + int -> Boolean will be trated as int ( True ->1 , False -> 0)\n",
        "num1= True\n",
        "num2= 20\n",
        "print(num1+num2)"
      ],
      "metadata": {
        "colab": {
          "base_uri": "https://localhost:8080/"
        },
        "id": "lelw9PKCnRSB",
        "outputId": "3dacf85c-7e9d-459e-d1af-7ffdcfc0c77a"
      },
      "execution_count": null,
      "outputs": [
        {
          "output_type": "stream",
          "name": "stdout",
          "text": [
            "21\n"
          ]
        }
      ]
    },
    {
      "cell_type": "code",
      "source": [
        "# int -> bool => it will be 0 for false only , and non zero or 1 for all other\n",
        "print(bool(0), bool (-1) , bool (4) , bool(5.5))"
      ],
      "metadata": {
        "colab": {
          "base_uri": "https://localhost:8080/"
        },
        "id": "rzoS3rn1nqzt",
        "outputId": "f3349455-e6aa-48df-a6f2-a559579ccaab"
      },
      "execution_count": null,
      "outputs": [
        {
          "output_type": "stream",
          "name": "stdout",
          "text": [
            "False True True True\n"
          ]
        }
      ]
    },
    {
      "cell_type": "code",
      "source": [
        "# Ppython is slow but memory efficient\n",
        "# the interning range is -5 to 256\n",
        "a=10\n",
        "b=10\n",
        "c=10\n",
        "d=10\n",
        "print(a, id(a))\n",
        "print(b, id(b))\n",
        "print(c, id(c))\n",
        "print(d, id(d)) # upto 256 python will use same memory\n",
        "\n",
        "a= 257\n",
        "b= 257\n",
        "print(a, id(a))\n",
        "print(b, id(b))"
      ],
      "metadata": {
        "colab": {
          "base_uri": "https://localhost:8080/"
        },
        "id": "4l1yA8Buogyj",
        "outputId": "6a5ff653-ac89-465e-8820-d459898d2886"
      },
      "execution_count": null,
      "outputs": [
        {
          "output_type": "stream",
          "name": "stdout",
          "text": [
            "10 137851381301776\n",
            "10 137851381301776\n",
            "10 137851381301776\n",
            "10 137851381301776\n",
            "257 137850887255024\n",
            "257 137850887256752\n"
          ]
        }
      ]
    },
    {
      "cell_type": "code",
      "source": [
        "# but we can still attach the same memory location if we want to we can use sys library\n",
        "import sys\n",
        "\n",
        "a= sys.intern(str(257))\n",
        "b= sys.intern(str(257))\n",
        "\n",
        "print(a, id(a))\n",
        "print(b, id(b))"
      ],
      "metadata": {
        "colab": {
          "base_uri": "https://localhost:8080/"
        },
        "id": "3EipKRJIpgzk",
        "outputId": "b4b708e7-d136-42d2-9b40-ce4290220a46"
      },
      "execution_count": null,
      "outputs": [
        {
          "output_type": "stream",
          "name": "stdout",
          "text": [
            "257 137850885976688\n",
            "257 137850885976688\n"
          ]
        }
      ]
    },
    {
      "cell_type": "code",
      "source": [
        "# Because python also consider string as variable it will be get same memory loacation , untill python understood it a string not a variable , which was done by using space\n",
        "\n",
        "fname = 'saurabh_is_good'\n",
        "lname = 'saurabh_is_good'\n",
        "print(fname, id(fname))\n",
        "print(lname, id(lname))\n",
        "\n",
        "fname = 'saurabh is good'\n",
        "lname = 'saurabh is good'\n",
        "print(fname, id(fname))\n",
        "print(lname, id(lname))"
      ],
      "metadata": {
        "colab": {
          "base_uri": "https://localhost:8080/"
        },
        "id": "Zmly6ZF8qWHw",
        "outputId": "adae63ea-4c02-44f8-af0f-f497c7db4cef"
      },
      "execution_count": null,
      "outputs": [
        {
          "output_type": "stream",
          "name": "stdout",
          "text": [
            "saurabh_is_good 137850610366000\n",
            "saurabh_is_good 137850610366000\n",
            "saurabh is good 137850610365808\n",
            "saurabh is good 137850610680496\n"
          ]
        }
      ]
    },
    {
      "cell_type": "code",
      "source": [
        "# Operaters\n",
        "# 1. Arithmetic operators -> *,+,-,/,//,**,%\n",
        "\n",
        "print(10+5)\n",
        "print(10-5)\n",
        "print(10*5)\n",
        "print(12/5) # decimal\n",
        "print(12//5) # double or floor division\n",
        "print(12%5) # modulus\n",
        "print(2**3)# exponentials -> 2^3=8\n"
      ],
      "metadata": {
        "colab": {
          "base_uri": "https://localhost:8080/"
        },
        "id": "NZsCsMMzrpyD",
        "outputId": "f577654f-fee0-491a-daf3-765024394200"
      },
      "execution_count": null,
      "outputs": [
        {
          "output_type": "stream",
          "name": "stdout",
          "text": [
            "15\n",
            "5\n",
            "50\n",
            "2.4\n",
            "2\n",
            "2\n",
            "8\n"
          ]
        }
      ]
    },
    {
      "cell_type": "code",
      "source": [
        "print(13//3) # 4\n",
        "print(13%3) # 1\n",
        "\n",
        "# but in case of python floor division is done\n",
        "\n",
        "print(-13//3) # but here floor division values is used\n",
        "print(-13%3) # floor value is given (ceil (upper value), floor(Lower value))\n",
        "\n"
      ],
      "metadata": {
        "colab": {
          "base_uri": "https://localhost:8080/"
        },
        "id": "yA5xWtnGs1O9",
        "outputId": "7698db95-c789-4ea5-8062-ea103c492ab4"
      },
      "execution_count": null,
      "outputs": [
        {
          "output_type": "stream",
          "name": "stdout",
          "text": [
            "4\n",
            "1\n",
            "-5\n",
            "2\n"
          ]
        }
      ]
    },
    {
      "cell_type": "code",
      "source": [
        "import math\n",
        "\n",
        "print(math.ceil(4.3))\n",
        "print(math.floor(4.3))\n",
        "\n",
        "print(math.ceil(4.000000000000001)) # python can only hndle 15 digits\n",
        "print(math.floor(4.999999999999999))"
      ],
      "metadata": {
        "colab": {
          "base_uri": "https://localhost:8080/"
        },
        "id": "nqUNCRl6tZg2",
        "outputId": "440ec66f-d91d-4cfd-ba14-5b78d89a8e73"
      },
      "execution_count": null,
      "outputs": [
        {
          "output_type": "stream",
          "name": "stdout",
          "text": [
            "5\n",
            "4\n",
            "5\n",
            "4\n"
          ]
        }
      ]
    },
    {
      "cell_type": "code",
      "source": [
        "# Operator and Operand\n",
        "num = 10 + 15\n",
        "num\n",
        "# operands -> 10,15\n",
        "# operator -> +\n",
        "# = is an assingment operator\n",
        "\n",
        "# BODMAS -> bracket off divide multiply add substract\n",
        "print(10+5* 10/ 2)"
      ],
      "metadata": {
        "id": "43amrA4XGp7G",
        "outputId": "bdf1a13e-0fff-419b-d54b-44ae4e6e9173",
        "colab": {
          "base_uri": "https://localhost:8080/"
        }
      },
      "execution_count": 3,
      "outputs": [
        {
          "output_type": "stream",
          "name": "stdout",
          "text": [
            "35.0\n"
          ]
        }
      ]
    },
    {
      "cell_type": "code",
      "source": [
        "# Assingment OPERATOR -> =\n",
        "num = 10\n",
        "print(num, id(num))\n",
        "\n",
        "# add 15 to num and store in the same variable -> create new memory\n",
        "num = num + 15\n",
        "print(num, id(num))"
      ],
      "metadata": {
        "id": "VuicS2vWHEbq",
        "outputId": "78102f9f-6fd5-4b8f-93a4-0c354d58cfb6",
        "colab": {
          "base_uri": "https://localhost:8080/"
        }
      },
      "execution_count": 5,
      "outputs": [
        {
          "output_type": "stream",
          "name": "stdout",
          "text": [
            "10 139885785661968\n",
            "25 139885785662448\n"
          ]
        }
      ]
    },
    {
      "cell_type": "code",
      "source": [
        "# comparison operators -> >, >=,<,<=, ==, !=\n",
        "\n",
        "print(10>15)\n",
        "print(10>=15)\n",
        "print(10<15)\n",
        "print(10<=15)\n",
        "print(10==16) # equal to\n",
        "print(10!=15) # not equal to"
      ],
      "metadata": {
        "id": "5_6WOsISI4xU",
        "outputId": "951878d6-3863-4e06-8474-b9db9f31b219",
        "colab": {
          "base_uri": "https://localhost:8080/"
        }
      },
      "execution_count": 8,
      "outputs": [
        {
          "output_type": "stream",
          "name": "stdout",
          "text": [
            "False\n",
            "False\n",
            "True\n",
            "True\n",
            "False\n",
            "True\n"
          ]
        }
      ]
    },
    {
      "cell_type": "code",
      "source": [
        "# Logical operator -> or, and , not\n",
        "\n",
        "# OR\n",
        "# vote-> voter_id or age>= 18\n",
        "age = 19\n",
        "voter_id = True\n",
        "print(age>=18 or voter_id == True) # either one condition shoud be true\n",
        "\n",
        "age=17\n",
        "print(age>=18 and voter_id == True) # both condition must be true\n",
        "\n",
        "# NOT -> used to convert True to False or False to True\n",
        "print (not(10>5))\n",
        "print(not(10>15))"
      ],
      "metadata": {
        "id": "P_s_gxERJ0KZ",
        "outputId": "a662b253-de8f-44c9-a856-93b5d7fea208",
        "colab": {
          "base_uri": "https://localhost:8080/"
        }
      },
      "execution_count": 13,
      "outputs": [
        {
          "output_type": "stream",
          "name": "stdout",
          "text": [
            "True\n",
            "False\n",
            "False\n",
            "True\n"
          ]
        }
      ]
    },
    {
      "cell_type": "code",
      "source": [
        "# Identity operator -> to compare address -> (is)\n",
        "num1 =300\n",
        "num2 = 300\n",
        "print(num1 , id(num1))\n",
        "print(num2 , id(num2))\n",
        "print(num1 is num2) # address is uded to compare\n",
        "print(num1==num2) # value is compared\n",
        "\n",
        "print(num1 is not num2)"
      ],
      "metadata": {
        "id": "J6_R2rrSK47t",
        "outputId": "5c771c42-17aa-4909-9ef2-84f673d2b2b8",
        "colab": {
          "base_uri": "https://localhost:8080/"
        }
      },
      "execution_count": 14,
      "outputs": [
        {
          "output_type": "stream",
          "name": "stdout",
          "text": [
            "300 139885291404880\n",
            "300 139885291404144\n",
            "False\n",
            "True\n",
            "True\n"
          ]
        }
      ]
    },
    {
      "cell_type": "code",
      "source": [
        "# membership operator -> in, not in\n",
        "news = 'india wins the world cup 2023 . Virat won the man of the series'\n",
        "word = 'India'\n",
        "\n",
        "print(word in news) # cheching word is in news or not\n",
        "print(word not in news)"
      ],
      "metadata": {
        "id": "0tUyvBbkMfPp",
        "outputId": "43beec28-97e8-4048-b885-4da435bc31c6",
        "colab": {
          "base_uri": "https://localhost:8080/"
        }
      },
      "execution_count": 15,
      "outputs": [
        {
          "output_type": "stream",
          "name": "stdout",
          "text": [
            "False\n",
            "True\n"
          ]
        }
      ]
    },
    {
      "cell_type": "code",
      "source": [
        "# bitwise operator\n",
        "\n",
        "# AND -> &\n",
        "print(4 & 3) # it check the binary value and then and it so output is 0\n",
        "\n",
        "print(2 & 3) # here output is 2\n",
        "print(13 & 7)\n",
        "\n",
        "# OR gate -> |\n",
        "print(13 | 7 )\n",
        "\n",
        "# XOR gate\n",
        "print(13 ^ 7)\n",
        "\n",
        "# Left shift operator << ->\n",
        "print(2<<1) # in left shift  formula = (left * 2^right)\n",
        "print(2<<2) # left shift is the power of 2 each left shift\n",
        "print(2<<3)\n",
        "print(2<<4)\n",
        "print(2<<5)\n",
        "print(2<<6)\n",
        "\n",
        "# Right shift >>\n",
        "print( 8>> 1 ) # -> half -> left / 2^ right\n",
        "print(517 >> 6)"
      ],
      "metadata": {
        "id": "YU7EcnObNZxG",
        "outputId": "f5915155-e859-4ab9-bd59-9c0d72f48566",
        "colab": {
          "base_uri": "https://localhost:8080/"
        }
      },
      "execution_count": 22,
      "outputs": [
        {
          "output_type": "stream",
          "name": "stdout",
          "text": [
            "0\n",
            "2\n",
            "5\n",
            "15\n",
            "10\n",
            "4\n",
            "8\n",
            "16\n",
            "32\n",
            "64\n",
            "128\n",
            "4\n",
            "8\n"
          ]
        }
      ]
    },
    {
      "cell_type": "code",
      "source": [
        "# strings\n",
        "\n",
        "print('sachin tendulkar')\n",
        "print(\"Sachin tendulkar 'good' cricketer \")\n",
        "\n",
        "# triple quotes -> multi line string\n",
        "print('''Sachin tendulkar is\n",
        "         'good' \"cricketer\"''')"
      ],
      "metadata": {
        "id": "pl2qdPkbR3cA",
        "outputId": "ed3aa3ef-3186-4d28-98fb-7e0fd1a31205",
        "colab": {
          "base_uri": "https://localhost:8080/"
        }
      },
      "execution_count": 28,
      "outputs": [
        {
          "output_type": "stream",
          "name": "stdout",
          "text": [
            "sachin tendulkar\n",
            "Sachin tendulkar 'good' cricketer \n",
            "Sachin tendulkar is\n",
            "         'good' \"cricketer\"\n"
          ]
        }
      ]
    },
    {
      "cell_type": "code",
      "source": [
        "first_name = 'saurabh'\n",
        "last_name = 'rai'\n",
        "\n",
        "print(first_name + ' ' + last_name + ' is a good boy')\n",
        "\n",
        "# formatted sring ->f\n",
        "print(f'{first_name} {last_name} is a good boy')\n",
        "\n",
        "print('good boy', end=' ') # by default end value is new line but if we specify it will change\n",
        "print('bad boy')"
      ],
      "metadata": {
        "id": "wA3k0AKTThxb",
        "outputId": "4980416b-30e0-4cc7-891f-fd2e5018b062",
        "colab": {
          "base_uri": "https://localhost:8080/"
        }
      },
      "execution_count": 32,
      "outputs": [
        {
          "output_type": "stream",
          "name": "stdout",
          "text": [
            "saurabh rai is a good boy\n",
            "saurabh rai is a good boy\n",
            "good boy bad boy\n"
          ]
        }
      ]
    },
    {
      "cell_type": "code",
      "source": [
        "# input\n",
        "name = input('Enter the name :')\n",
        "age = input('Enter the age ')\n",
        "print(name,age)\n",
        "\n",
        "# input always take string data type"
      ],
      "metadata": {
        "id": "_cNvt_rLUxlH",
        "outputId": "67f9b978-910f-4c2b-9bcf-a15f072669f1",
        "colab": {
          "base_uri": "https://localhost:8080/"
        }
      },
      "execution_count": 34,
      "outputs": [
        {
          "output_type": "stream",
          "name": "stdout",
          "text": [
            "Enter the name :# type casting \n",
            "Enter the age gfnf\n",
            "# type casting  gfnf\n"
          ]
        }
      ]
    },
    {
      "cell_type": "code",
      "source": [
        "# type casting -> converting one data type to another\n",
        "num1 = input('Enter the num 1 : ')\n",
        "num2 = input('Enter the num 2 : ')\n",
        "print (type(num1), type(num2))\n",
        "\n",
        "num1=int(num1)\n",
        "num2=int(num2)\n",
        "print(type(num1), type(num2))\n"
      ],
      "metadata": {
        "id": "59KnbtbrVZwn",
        "outputId": "94c0a6f5-9be2-49b1-cfa4-0344394cd8f2",
        "colab": {
          "base_uri": "https://localhost:8080/"
        }
      },
      "execution_count": 38,
      "outputs": [
        {
          "output_type": "stream",
          "name": "stdout",
          "text": [
            "Enter the num 1 : 10\n",
            "Enter the num 2 : 20\n",
            "<class 'str'> <class 'str'>\n",
            "<class 'int'> <class 'int'>\n"
          ]
        }
      ]
    },
    {
      "cell_type": "code",
      "source": [
        "# in a code if we want to validates correct values are entered or not we can use type casting\n",
        "name = input('Enter the name :')\n",
        "age = int(input('Enter the age '))\n",
        "print(name,age)\n"
      ],
      "metadata": {
        "id": "Fgx9MWUxXI17",
        "outputId": "38b85a66-8bc0-4ed3-bcde-758326b41ac5",
        "colab": {
          "base_uri": "https://localhost:8080/",
          "height": 262
        }
      },
      "execution_count": 39,
      "outputs": [
        {
          "name": "stdout",
          "output_type": "stream",
          "text": [
            "Enter the name :saurabh\n",
            "Enter the age sa\n"
          ]
        },
        {
          "output_type": "error",
          "ename": "ValueError",
          "evalue": "ignored",
          "traceback": [
            "\u001b[0;31m---------------------------------------------------------------------------\u001b[0m",
            "\u001b[0;31mValueError\u001b[0m                                Traceback (most recent call last)",
            "\u001b[0;32m<ipython-input-39-a2e249476ddc>\u001b[0m in \u001b[0;36m<cell line: 3>\u001b[0;34m()\u001b[0m\n\u001b[1;32m      1\u001b[0m \u001b[0;31m# in a code if we want to validates correct values are entered or not we can use type casting\u001b[0m\u001b[0;34m\u001b[0m\u001b[0;34m\u001b[0m\u001b[0m\n\u001b[1;32m      2\u001b[0m \u001b[0mname\u001b[0m \u001b[0;34m=\u001b[0m \u001b[0minput\u001b[0m\u001b[0;34m(\u001b[0m\u001b[0;34m'Enter the name :'\u001b[0m\u001b[0;34m)\u001b[0m\u001b[0;34m\u001b[0m\u001b[0;34m\u001b[0m\u001b[0m\n\u001b[0;32m----> 3\u001b[0;31m \u001b[0mage\u001b[0m \u001b[0;34m=\u001b[0m \u001b[0mint\u001b[0m\u001b[0;34m(\u001b[0m\u001b[0minput\u001b[0m\u001b[0;34m(\u001b[0m\u001b[0;34m'Enter the age '\u001b[0m\u001b[0;34m)\u001b[0m\u001b[0;34m)\u001b[0m\u001b[0;34m\u001b[0m\u001b[0;34m\u001b[0m\u001b[0m\n\u001b[0m\u001b[1;32m      4\u001b[0m \u001b[0mprint\u001b[0m\u001b[0;34m(\u001b[0m\u001b[0mname\u001b[0m\u001b[0;34m,\u001b[0m\u001b[0mage\u001b[0m\u001b[0;34m)\u001b[0m\u001b[0;34m\u001b[0m\u001b[0;34m\u001b[0m\u001b[0m\n",
            "\u001b[0;31mValueError\u001b[0m: invalid literal for int() with base 10: 'sa'"
          ]
        }
      ]
    },
    {
      "cell_type": "code",
      "source": [
        "name = 'akash'\n",
        "print(len(name)) # len -> it gives length of string\n",
        "\n",
        "# index -> starts from 0\n",
        "print (name[0], name[1], name[2], name[4]) # if out of range it is an index error\n",
        "\n",
        ""
      ],
      "metadata": {
        "id": "k5aymkT8Xk63",
        "outputId": "655f26fe-9643-4ed6-8cfd-4314a387b884",
        "colab": {
          "base_uri": "https://localhost:8080/"
        }
      },
      "execution_count": 42,
      "outputs": [
        {
          "output_type": "stream",
          "name": "stdout",
          "text": [
            "5\n",
            "a k a h\n"
          ]
        }
      ]
    },
    {
      "cell_type": "code",
      "source": [
        "# string are immutable , every time new memory is created"
      ],
      "metadata": {
        "id": "UB6R_5YCaP9F"
      },
      "execution_count": null,
      "outputs": []
    },
    {
      "cell_type": "code",
      "source": [
        "# negation operator = ~ it reverses the data\n",
        "print(~ 1)"
      ],
      "metadata": {
        "id": "P8rHG8ZJcPER",
        "outputId": "6f6ddd48-cea5-4d42-bbf2-642a5809c4d8",
        "colab": {
          "base_uri": "https://localhost:8080/"
        }
      },
      "execution_count": 43,
      "outputs": [
        {
          "output_type": "stream",
          "name": "stdout",
          "text": [
            "-2\n"
          ]
        }
      ]
    }
  ]
}
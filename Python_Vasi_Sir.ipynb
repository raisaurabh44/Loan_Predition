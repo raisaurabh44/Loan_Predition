{
  "nbformat": 4,
  "nbformat_minor": 0,
  "metadata": {
    "colab": {
      "provenance": [],
      "authorship_tag": "ABX9TyNUbFZIFXbfdNUVGlsvxPa/",
      "include_colab_link": true
    },
    "kernelspec": {
      "name": "python3",
      "display_name": "Python 3"
    },
    "language_info": {
      "name": "python"
    }
  },
  "cells": [
    {
      "cell_type": "markdown",
      "metadata": {
        "id": "view-in-github",
        "colab_type": "text"
      },
      "source": [
        "<a href=\"https://colab.research.google.com/github/raisaurabh44/Practice_001/blob/main/Python_Vasi_Sir.ipynb\" target=\"_parent\"><img src=\"https://colab.research.google.com/assets/colab-badge.svg\" alt=\"Open In Colab\"/></a>"
      ]
    },
    {
      "cell_type": "code",
      "execution_count": 1,
      "metadata": {
        "colab": {
          "base_uri": "https://localhost:8080/"
        },
        "id": "NO2LPXXYg3QU",
        "outputId": "7cda2a57-9325-4c4f-8e2c-43fa2d352e0f"
      },
      "outputs": [
        {
          "output_type": "stream",
          "name": "stdout",
          "text": [
            "India won world cup\n"
          ]
        }
      ],
      "source": [
        "print('India won world cup')"
      ]
    },
    {
      "cell_type": "code",
      "source": [
        "print(10+5)\n",
        "print(10-5)"
      ],
      "metadata": {
        "colab": {
          "base_uri": "https://localhost:8080/"
        },
        "id": "zlKeNaPyhkrl",
        "outputId": "c77b61aa-1371-4e11-f4c3-6ab297f4c540"
      },
      "execution_count": 2,
      "outputs": [
        {
          "output_type": "stream",
          "name": "stdout",
          "text": [
            "15\n",
            "5\n"
          ]
        }
      ]
    },
    {
      "cell_type": "code",
      "source": [
        "#variables\n",
        "num = 10 # 4 bytes\n",
        "print(id(num),num) #-> id->address\n",
        "\n",
        "num =20\n",
        "print(id(num),num)\n",
        "\n",
        "# extra unsued memory is cleared by Garbage collector (Mark and Sweep Algorithm)"
      ],
      "metadata": {
        "colab": {
          "base_uri": "https://localhost:8080/"
        },
        "id": "jQ5sTfSnhrpE",
        "outputId": "2a49f379-436a-4d10-e8b4-a7595a460e68"
      },
      "execution_count": 3,
      "outputs": [
        {
          "output_type": "stream",
          "name": "stdout",
          "text": [
            "134138930086416 10\n",
            "134138930086736 20\n"
          ]
        }
      ]
    },
    {
      "cell_type": "code",
      "source": [
        "# data types\n",
        "# Python is a -> Dynamically typed language\n",
        "num =10\n",
        "print(num, type(num)) # -> integer -> 4 bytes of space\n",
        "\n",
        "num =10.5\n",
        "print(num,type(num)) # float -> 8bytes of memory\n",
        "\n",
        "num = 'saurabh' # each char takes 1 bytes\n",
        "print(num, type(num)) # string of -> 7 bytes\n",
        "\n",
        "num = True # False\n",
        "print(num,type(num)) # boolean -> 1 bytes each"
      ],
      "metadata": {
        "colab": {
          "base_uri": "https://localhost:8080/"
        },
        "id": "X6g_f0FTiUrA",
        "outputId": "5e06f887-c188-4c2f-ea98-768fe8331ab1"
      },
      "execution_count": 4,
      "outputs": [
        {
          "output_type": "stream",
          "name": "stdout",
          "text": [
            "10 <class 'int'>\n",
            "10.5 <class 'float'>\n",
            "saurabh <class 'str'>\n",
            "True <class 'bool'>\n"
          ]
        }
      ]
    },
    {
      "cell_type": "code",
      "source": [
        "# naming convention\n",
        "\n",
        "#1. Pascal case -> FirstName , LastNameOfAPerson -> class it is used\n",
        "#2. Camel case -> firstName , lastNamme , lastNameOfAPerson -> not recommended\n",
        "#3. snake case -> first_name, last_name , last_name_of_a_person -> variables , functions\n"
      ],
      "metadata": {
        "id": "l0Cgoj4ck17P"
      },
      "execution_count": 5,
      "outputs": []
    },
    {
      "cell_type": "code",
      "source": [
        "num1 =10\n",
        "num2 = 15\n",
        "print(num1 + num2)"
      ],
      "metadata": {
        "colab": {
          "base_uri": "https://localhost:8080/"
        },
        "id": "1VggYXcWmALh",
        "outputId": "56d6a518-c5a5-410c-9f38-f269514a2462"
      },
      "execution_count": 6,
      "outputs": [
        {
          "output_type": "stream",
          "name": "stdout",
          "text": [
            "25\n"
          ]
        }
      ]
    },
    {
      "cell_type": "code",
      "source": [
        "num1= '10'\n",
        "num2= 20\n",
        "print(num1+num2) # type error because number cant be added to a string"
      ],
      "metadata": {
        "colab": {
          "base_uri": "https://localhost:8080/",
          "height": 210
        },
        "id": "2Jpav7VWmYaF",
        "outputId": "9224bc92-63e5-4924-ebe7-efe2f6bcfd56"
      },
      "execution_count": 8,
      "outputs": [
        {
          "output_type": "error",
          "ename": "TypeError",
          "evalue": "ignored",
          "traceback": [
            "\u001b[0;31m---------------------------------------------------------------------------\u001b[0m",
            "\u001b[0;31mTypeError\u001b[0m                                 Traceback (most recent call last)",
            "\u001b[0;32m<ipython-input-8-aa9b473bf4eb>\u001b[0m in \u001b[0;36m<cell line: 3>\u001b[0;34m()\u001b[0m\n\u001b[1;32m      1\u001b[0m \u001b[0mnum1\u001b[0m\u001b[0;34m=\u001b[0m \u001b[0;34m'10'\u001b[0m\u001b[0;34m\u001b[0m\u001b[0;34m\u001b[0m\u001b[0m\n\u001b[1;32m      2\u001b[0m \u001b[0mnum2\u001b[0m\u001b[0;34m=\u001b[0m \u001b[0;36m20\u001b[0m\u001b[0;34m\u001b[0m\u001b[0;34m\u001b[0m\u001b[0m\n\u001b[0;32m----> 3\u001b[0;31m \u001b[0mprint\u001b[0m\u001b[0;34m(\u001b[0m\u001b[0mnum1\u001b[0m\u001b[0;34m+\u001b[0m\u001b[0mnum2\u001b[0m\u001b[0;34m)\u001b[0m \u001b[0;31m# type error because number cant be added to a string\u001b[0m\u001b[0;34m\u001b[0m\u001b[0;34m\u001b[0m\u001b[0m\n\u001b[0m",
            "\u001b[0;31mTypeError\u001b[0m: can only concatenate str (not \"int\") to str"
          ]
        }
      ]
    },
    {
      "cell_type": "code",
      "source": [
        "num1= '10'\n",
        "num2= '20'\n",
        "print(num1+num2) # no error but 2 string get concatinated"
      ],
      "metadata": {
        "id": "rrLBv7Vumkaw",
        "outputId": "8b1e6621-f98f-433f-c564-980bc3d27d7d",
        "colab": {
          "base_uri": "https://localhost:8080/"
        }
      },
      "execution_count": 9,
      "outputs": [
        {
          "output_type": "stream",
          "name": "stdout",
          "text": [
            "1020\n"
          ]
        }
      ]
    },
    {
      "cell_type": "code",
      "source": [
        "# Bool + int -> Boolean will be trated as int ( True ->1 , False -> 0)\n",
        "num1= True\n",
        "num2= 20\n",
        "print(num1+num2)"
      ],
      "metadata": {
        "colab": {
          "base_uri": "https://localhost:8080/"
        },
        "id": "lelw9PKCnRSB",
        "outputId": "c88abcf2-b147-416a-aa83-da8aea865f3d"
      },
      "execution_count": 11,
      "outputs": [
        {
          "output_type": "stream",
          "name": "stdout",
          "text": [
            "21\n"
          ]
        }
      ]
    },
    {
      "cell_type": "code",
      "source": [
        "# int -> bool => it will be 0 for false only , and non zero or 1 for all other\n",
        "print(bool(0), bool (-1) , bool (4) , bool(5.5))"
      ],
      "metadata": {
        "colab": {
          "base_uri": "https://localhost:8080/"
        },
        "id": "rzoS3rn1nqzt",
        "outputId": "8e03268f-25af-486e-d2dd-552b79f36f3e"
      },
      "execution_count": 12,
      "outputs": [
        {
          "output_type": "stream",
          "name": "stdout",
          "text": [
            "False True True True\n"
          ]
        }
      ]
    },
    {
      "cell_type": "code",
      "source": [
        "# Ppython is slow but memory efficient\n",
        "# the interning range is -5 to 256\n",
        "a=10\n",
        "b=10\n",
        "c=10\n",
        "d=10\n",
        "print(a, id(a))\n",
        "print(b, id(b))\n",
        "print(c, id(c))\n",
        "print(d, id(d)) # upto 256 python will use same memory\n",
        "\n",
        "a= 257\n",
        "b= 257\n",
        "print(a, id(a))\n",
        "print(b, id(b))"
      ],
      "metadata": {
        "colab": {
          "base_uri": "https://localhost:8080/"
        },
        "id": "4l1yA8Buogyj",
        "outputId": "00c81690-2f9f-4ee0-f061-75ed31103ad1"
      },
      "execution_count": 13,
      "outputs": [
        {
          "output_type": "stream",
          "name": "stdout",
          "text": [
            "10 134138930086416\n",
            "10 134138930086416\n",
            "10 134138930086416\n",
            "10 134138930086416\n",
            "257 134138435270000\n",
            "257 134138435270256\n"
          ]
        }
      ]
    },
    {
      "cell_type": "code",
      "source": [
        "# but we can still attach the same memory location if we want to we can use sys library\n",
        "import sys\n",
        "\n",
        "a= sys.intern(str(257))\n",
        "b= sys.intern(str(257))\n",
        "\n",
        "print(a, id(a))\n",
        "print(b, id(b))"
      ],
      "metadata": {
        "colab": {
          "base_uri": "https://localhost:8080/"
        },
        "id": "3EipKRJIpgzk",
        "outputId": "e0920d96-3ff2-47d6-ee43-be7feda7e676"
      },
      "execution_count": 14,
      "outputs": [
        {
          "output_type": "stream",
          "name": "stdout",
          "text": [
            "257 134138434040432\n",
            "257 134138434040432\n"
          ]
        }
      ]
    },
    {
      "cell_type": "code",
      "source": [
        "# Because python also consider string as variable it will be get same memory loacation , untill python understood it a string not a variable , which was done by using space\n",
        "\n",
        "fname = 'saurabh_is_good'\n",
        "lname = 'saurabh_is_good'\n",
        "print(fname, id(fname))\n",
        "print(lname, id(lname))\n",
        "\n",
        "fname = 'saurabh is good'\n",
        "lname = 'saurabh is good'\n",
        "print(fname, id(fname))\n",
        "print(lname, id(lname))"
      ],
      "metadata": {
        "colab": {
          "base_uri": "https://localhost:8080/"
        },
        "id": "Zmly6ZF8qWHw",
        "outputId": "3f4f197a-3cbe-47bf-c2ec-946c7c68694c"
      },
      "execution_count": 15,
      "outputs": [
        {
          "output_type": "stream",
          "name": "stdout",
          "text": [
            "saurabh_is_good 134138407437040\n",
            "saurabh_is_good 134138407437040\n",
            "saurabh is good 134138407436912\n",
            "saurabh is good 134138407438576\n"
          ]
        }
      ]
    },
    {
      "cell_type": "code",
      "source": [
        "# Operaters\n",
        "# 1. Arithmetic operators -> *,+,-,/,//,**,%\n",
        "\n",
        "print(10+5)\n",
        "print(10-5)\n",
        "print(10*5)\n",
        "print(12/5) # decimal\n",
        "print(12//5) # double or floor division\n",
        "print(12%5) # modulus\n",
        "print(2**3)# exponentials -> 2^3=8\n"
      ],
      "metadata": {
        "colab": {
          "base_uri": "https://localhost:8080/"
        },
        "id": "NZsCsMMzrpyD",
        "outputId": "5cf1976a-e41b-43e6-dd3a-5714bafeac99"
      },
      "execution_count": 16,
      "outputs": [
        {
          "output_type": "stream",
          "name": "stdout",
          "text": [
            "15\n",
            "5\n",
            "50\n",
            "2.4\n",
            "2\n",
            "2\n",
            "8\n"
          ]
        }
      ]
    },
    {
      "cell_type": "code",
      "source": [
        "print(13//3) # 4\n",
        "print(13%3) # 1\n",
        "\n",
        "# but in case of python floor division is done\n",
        "\n",
        "print(-13//3) # but here floor division values is used\n",
        "print(-13%3) # floor value is given (ceil (upper value), floor(Lower value))\n",
        "\n"
      ],
      "metadata": {
        "colab": {
          "base_uri": "https://localhost:8080/"
        },
        "id": "yA5xWtnGs1O9",
        "outputId": "0a44cd7e-193d-4ca5-d2d1-6790d9599d16"
      },
      "execution_count": 17,
      "outputs": [
        {
          "output_type": "stream",
          "name": "stdout",
          "text": [
            "4\n",
            "1\n",
            "-5\n",
            "2\n"
          ]
        }
      ]
    },
    {
      "cell_type": "code",
      "source": [
        "import math\n",
        "\n",
        "print(math.ceil(4.3))\n",
        "print(math.floor(4.3))\n",
        "\n",
        "print(math.ceil(4.000000000000001)) # python can only hndle 15 digits\n",
        "print(math.floor(4.999999999999999))"
      ],
      "metadata": {
        "colab": {
          "base_uri": "https://localhost:8080/"
        },
        "id": "nqUNCRl6tZg2",
        "outputId": "92f1b620-e986-4807-c0ed-8f40f37f8272"
      },
      "execution_count": 18,
      "outputs": [
        {
          "output_type": "stream",
          "name": "stdout",
          "text": [
            "5\n",
            "4\n",
            "5\n",
            "4\n"
          ]
        }
      ]
    },
    {
      "cell_type": "code",
      "source": [
        "# Operator and Operand\n",
        "num = 10 + 15\n",
        "num\n",
        "# operands -> 10,15\n",
        "# operator -> +\n",
        "# = is an assingment operator\n",
        "\n",
        "# BODMAS -> bracket off divide multiply add substract\n",
        "print(10+5* 10/ 2)"
      ],
      "metadata": {
        "id": "43amrA4XGp7G",
        "outputId": "9cd9171a-1150-4d20-e3aa-05f4e14e6365",
        "colab": {
          "base_uri": "https://localhost:8080/"
        }
      },
      "execution_count": 19,
      "outputs": [
        {
          "output_type": "stream",
          "name": "stdout",
          "text": [
            "35.0\n"
          ]
        }
      ]
    },
    {
      "cell_type": "code",
      "source": [
        "# Assingment OPERATOR -> =\n",
        "num = 10\n",
        "print(num, id(num))\n",
        "\n",
        "# add 15 to num and store in the same variable -> create new memory\n",
        "num = num + 15\n",
        "print(num, id(num))"
      ],
      "metadata": {
        "id": "VuicS2vWHEbq",
        "outputId": "d643a7c5-3561-456e-fd40-c8277328c667",
        "colab": {
          "base_uri": "https://localhost:8080/"
        }
      },
      "execution_count": 20,
      "outputs": [
        {
          "output_type": "stream",
          "name": "stdout",
          "text": [
            "10 134138930086416\n",
            "25 134138930086896\n"
          ]
        }
      ]
    },
    {
      "cell_type": "code",
      "source": [
        "# comparison operators -> >, >=,<,<=, ==, !=\n",
        "\n",
        "print(10>15)\n",
        "print(10>=15)\n",
        "print(10<15)\n",
        "print(10<=15)\n",
        "print(10==16) # equal to\n",
        "print(10!=15) # not equal to"
      ],
      "metadata": {
        "id": "5_6WOsISI4xU",
        "outputId": "6e009195-edfc-4a9d-aeb9-53a174f689fe",
        "colab": {
          "base_uri": "https://localhost:8080/"
        }
      },
      "execution_count": 21,
      "outputs": [
        {
          "output_type": "stream",
          "name": "stdout",
          "text": [
            "False\n",
            "False\n",
            "True\n",
            "True\n",
            "False\n",
            "True\n"
          ]
        }
      ]
    },
    {
      "cell_type": "code",
      "source": [
        "# Logical operator -> or, and , not\n",
        "\n",
        "# OR\n",
        "# vote-> voter_id or age>= 18\n",
        "age = 19\n",
        "voter_id = True\n",
        "print(age>=18 or voter_id == True) # either one condition shoud be true\n",
        "\n",
        "age=17\n",
        "print(age>=18 and voter_id == True) # both condition must be true\n",
        "\n",
        "# NOT -> used to convert True to False or False to True\n",
        "print (not(10>5))\n",
        "print(not(10>15))"
      ],
      "metadata": {
        "id": "P_s_gxERJ0KZ",
        "outputId": "14ab91eb-848d-4d34-d4f9-0f91325de768",
        "colab": {
          "base_uri": "https://localhost:8080/"
        }
      },
      "execution_count": 22,
      "outputs": [
        {
          "output_type": "stream",
          "name": "stdout",
          "text": [
            "True\n",
            "False\n",
            "False\n",
            "True\n"
          ]
        }
      ]
    },
    {
      "cell_type": "code",
      "source": [
        "# Identity operator -> to compare address -> (is)\n",
        "num1 =300\n",
        "num2 = 300\n",
        "print(num1 , id(num1))\n",
        "print(num2 , id(num2))\n",
        "print(num1 is num2) # address is uded to compare\n",
        "print(num1==num2) # value is compared\n",
        "\n",
        "print(num1 is not num2)"
      ],
      "metadata": {
        "id": "J6_R2rrSK47t",
        "outputId": "ddc997ad-0423-4011-eda5-d98975367e06",
        "colab": {
          "base_uri": "https://localhost:8080/"
        }
      },
      "execution_count": 23,
      "outputs": [
        {
          "output_type": "stream",
          "name": "stdout",
          "text": [
            "300 134138435270448\n",
            "300 134138435270192\n",
            "False\n",
            "True\n",
            "True\n"
          ]
        }
      ]
    },
    {
      "cell_type": "code",
      "source": [
        "# membership operator -> in, not in\n",
        "news = 'india wins the world cup 2023 . Virat won the man of the series'\n",
        "word = 'India'\n",
        "\n",
        "print(word in news) # cheching word is in news or not\n",
        "print(word not in news)"
      ],
      "metadata": {
        "id": "0tUyvBbkMfPp",
        "outputId": "b196a245-fb2d-4752-9716-174c4a7517bf",
        "colab": {
          "base_uri": "https://localhost:8080/"
        }
      },
      "execution_count": 24,
      "outputs": [
        {
          "output_type": "stream",
          "name": "stdout",
          "text": [
            "False\n",
            "True\n"
          ]
        }
      ]
    },
    {
      "cell_type": "code",
      "source": [
        "# bitwise operator\n",
        "\n",
        "# AND -> &\n",
        "print(4 & 3) # it check the binary value and then and it so output is 0\n",
        "\n",
        "print(2 & 3) # here output is 2\n",
        "print(13 & 7)\n",
        "\n",
        "# OR gate -> |\n",
        "print(13 | 7 )\n",
        "\n",
        "# XOR gate\n",
        "print(13 ^ 7)\n",
        "\n",
        "# Left shift operator << ->\n",
        "print(2<<1) # in left shift  formula = (left * 2^right)\n",
        "print(2<<2) # left shift is the power of 2 each left shift\n",
        "print(2<<3)\n",
        "print(2<<4)\n",
        "print(2<<5)\n",
        "print(2<<6)\n",
        "\n",
        "# Right shift >>\n",
        "print( 8>> 1 ) # -> half -> left / 2^ right\n",
        "print(517 >> 6)"
      ],
      "metadata": {
        "id": "YU7EcnObNZxG",
        "outputId": "a0e67697-4d68-462a-ecc6-42e645c8fbf4",
        "colab": {
          "base_uri": "https://localhost:8080/"
        }
      },
      "execution_count": 25,
      "outputs": [
        {
          "output_type": "stream",
          "name": "stdout",
          "text": [
            "0\n",
            "2\n",
            "5\n",
            "15\n",
            "10\n",
            "4\n",
            "8\n",
            "16\n",
            "32\n",
            "64\n",
            "128\n",
            "4\n",
            "8\n"
          ]
        }
      ]
    },
    {
      "cell_type": "code",
      "source": [
        "# strings\n",
        "\n",
        "print('sachin tendulkar')\n",
        "print(\"Sachin tendulkar 'good' cricketer \")\n",
        "\n",
        "# triple quotes -> multi line string\n",
        "print('''Sachin tendulkar is\n",
        "         'good' \"cricketer\"''')"
      ],
      "metadata": {
        "id": "pl2qdPkbR3cA",
        "outputId": "73d40082-b7d5-4f05-d4de-ed7bccffa259",
        "colab": {
          "base_uri": "https://localhost:8080/"
        }
      },
      "execution_count": 26,
      "outputs": [
        {
          "output_type": "stream",
          "name": "stdout",
          "text": [
            "sachin tendulkar\n",
            "Sachin tendulkar 'good' cricketer \n",
            "Sachin tendulkar is\n",
            "         'good' \"cricketer\"\n"
          ]
        }
      ]
    },
    {
      "cell_type": "code",
      "source": [
        "first_name = 'saurabh'\n",
        "last_name = 'rai'\n",
        "\n",
        "print(first_name + ' ' + last_name + ' is a good boy')\n",
        "\n",
        "# formatted sring ->f\n",
        "print(f'{first_name} {last_name} is a good boy')\n",
        "\n",
        "print('good boy', end=' ') # by default end value is new line but if we specify it will change\n",
        "print('bad boy')"
      ],
      "metadata": {
        "id": "wA3k0AKTThxb",
        "outputId": "5e66d6a5-813a-497c-8c0d-8b2cdc6a6aa7",
        "colab": {
          "base_uri": "https://localhost:8080/"
        }
      },
      "execution_count": 27,
      "outputs": [
        {
          "output_type": "stream",
          "name": "stdout",
          "text": [
            "saurabh rai is a good boy\n",
            "saurabh rai is a good boy\n",
            "good boy bad boy\n"
          ]
        }
      ]
    },
    {
      "cell_type": "code",
      "source": [
        "# input\n",
        "name = input('Enter the name :')\n",
        "age = input('Enter the age ')\n",
        "print(name,age)\n",
        "\n",
        "# input always take string data type"
      ],
      "metadata": {
        "id": "_cNvt_rLUxlH",
        "outputId": "d9de3009-9cf2-4959-c918-1bc6525eee26",
        "colab": {
          "base_uri": "https://localhost:8080/"
        }
      },
      "execution_count": 28,
      "outputs": [
        {
          "output_type": "stream",
          "name": "stdout",
          "text": [
            "Enter the name :10\n",
            "Enter the age 0\n",
            "10 0\n"
          ]
        }
      ]
    },
    {
      "cell_type": "code",
      "source": [
        "# type casting -> converting one data type to another\n",
        "num1 = input('Enter the num 1 : ')\n",
        "num2 = input('Enter the num 2 : ')\n",
        "print (type(num1), type(num2))\n",
        "\n",
        "num1=int(num1)\n",
        "num2=int(num2)\n",
        "print(type(num1), type(num2))\n"
      ],
      "metadata": {
        "id": "59KnbtbrVZwn",
        "outputId": "4e0fc445-158e-41a2-c045-cf379289f739",
        "colab": {
          "base_uri": "https://localhost:8080/"
        }
      },
      "execution_count": 30,
      "outputs": [
        {
          "output_type": "stream",
          "name": "stdout",
          "text": [
            "Enter the num 1 : 1\n",
            "Enter the num 2 : 2\n",
            "<class 'str'> <class 'str'>\n",
            "<class 'int'> <class 'int'>\n"
          ]
        }
      ]
    },
    {
      "cell_type": "code",
      "source": [
        "12# in a code if we want to validates correct values are entered or not we can use type casting\n",
        "name = input('Enter the name :')\n",
        "age = int(input('Enter the age '))\n",
        "print(name,age)\n"
      ],
      "metadata": {
        "id": "Fgx9MWUxXI17",
        "outputId": "729e8ebb-eb69-474a-d476-b31d3aca06c2",
        "colab": {
          "base_uri": "https://localhost:8080/"
        }
      },
      "execution_count": 31,
      "outputs": [
        {
          "output_type": "stream",
          "name": "stdout",
          "text": [
            "Enter the name :s\n",
            "Enter the age 2\n",
            "s 2\n"
          ]
        }
      ]
    },
    {
      "cell_type": "code",
      "source": [
        "name = 'akash'\n",
        "print(len(name)) # len -> it gives length of string\n",
        "\n",
        "# index -> starts from 0\n",
        "print (name[0], name[1], name[2], name[4]) # if out of range it is an index error\n",
        "\n"
      ],
      "metadata": {
        "id": "k5aymkT8Xk63",
        "outputId": "083478a9-cae9-4cd6-8907-2336643be588",
        "colab": {
          "base_uri": "https://localhost:8080/"
        }
      },
      "execution_count": 32,
      "outputs": [
        {
          "output_type": "stream",
          "name": "stdout",
          "text": [
            "5\n",
            "a k a h\n"
          ]
        }
      ]
    },
    {
      "cell_type": "code",
      "source": [
        "# string are immutable , every time new memory is created"
      ],
      "metadata": {
        "id": "UB6R_5YCaP9F"
      },
      "execution_count": 33,
      "outputs": []
    },
    {
      "cell_type": "code",
      "source": [
        "# negation operator = ~ it reverses the data\n",
        "print(~ 1)"
      ],
      "metadata": {
        "id": "P8rHG8ZJcPER",
        "outputId": "d9b39980-5e1a-44a6-89d2-af7a731143cb",
        "colab": {
          "base_uri": "https://localhost:8080/"
        }
      },
      "execution_count": 34,
      "outputs": [
        {
          "output_type": "stream",
          "name": "stdout",
          "text": [
            "-2\n"
          ]
        }
      ]
    },
    {
      "cell_type": "code",
      "source": [
        "# Replace a character in a string\n",
        "name ='RAM'\n",
        "print(name, id(name))\n",
        "name=name.replace('R', 'J',1)\n",
        "print(name,id(name))"
      ],
      "metadata": {
        "id": "TGWDvcs0oLzD",
        "outputId": "57bf14ac-2431-40fe-bd13-584a1784bfc1",
        "colab": {
          "base_uri": "https://localhost:8080/"
        }
      },
      "execution_count": 38,
      "outputs": [
        {
          "output_type": "stream",
          "name": "stdout",
          "text": [
            "RAM 134138434319664\n",
            "JAM 134138550795312\n"
          ]
        }
      ]
    },
    {
      "cell_type": "code",
      "source": [
        "#collections -> List, Tuple, Set , Dictionary\n",
        "\n",
        "# List -> [], duplicates are allowed ,indexed/ordered, mutable\n",
        "empty_list=[]\n",
        "print(empty_list, type(empty_list))\n",
        "num=[1,2,3,4,3,0,45,5,5,5,5]\n",
        "print(num) # dublicates are allowed\n",
        "\n",
        "data= [1, 'vaasi' , True, 10.5]\n",
        "print(data[3])\n",
        "\n",
        "nums=[1,2,3,4,5]\n",
        "nums[2]=10\n",
        "nums[3]='Saurabh'\n",
        "print(nums) # shows list is mutable\n",
        "\n",
        "players = ['Abhi', 'Base', \"come\", 'Did']\n",
        "#print(players.pop()) # pop remove the last data by default\n",
        "#new_players=players.pop()\n",
        "#print(new_players)\n",
        "new_players=players.pop(0) # we can also pop elements with the index or with the string any thing we want\n",
        "print(new_players)\n",
        "print(players)\n",
        "\n",
        "# we can directly remove items , but only one by one with remove()\n",
        "players.remove('come')\n",
        "print(players)\n",
        "\n",
        "# we can also remove all data by clear() command\n",
        "players.clear()\n",
        "print(players)\n",
        "\n",
        "# we ca add element with insert() command\n",
        "players.insert(1,'saurabh')\n",
        "print(players)\n",
        "players.insert(2,['abhi','did','indi'])\n",
        "print(players)\n",
        "\n"
      ],
      "metadata": {
        "id": "knvevP5QpuCP",
        "outputId": "884dc939-965d-463e-8143-3565660082c0",
        "colab": {
          "base_uri": "https://localhost:8080/"
        }
      },
      "execution_count": 60,
      "outputs": [
        {
          "output_type": "stream",
          "name": "stdout",
          "text": [
            "[] <class 'list'>\n",
            "[1, 2, 3, 4, 3, 0, 45, 5, 5, 5, 5]\n",
            "10.5\n",
            "[1, 2, 10, 'Saurabh', 5]\n",
            "Abhi\n",
            "['Base', 'come', 'Did']\n",
            "['Base', 'Did']\n",
            "[]\n",
            "['saurabh']\n",
            "['saurabh', ['abhi', 'did', 'indi']]\n",
            "None\n"
          ]
        }
      ]
    },
    {
      "cell_type": "code",
      "source": [
        "# we can also append data\n",
        "list1=['1','2','3',4]\n",
        "list2=[4,5,6,'1','2']\n",
        "list1.append(list2)\n",
        "print(list1)\n",
        "added= list1 + list2 # not recomended because its uses more memory\n",
        "print(added)\n",
        "\n",
        "# so for more memory efficent work we do extend\n",
        "list1.extend(list2)\n",
        "print(list1)"
      ],
      "metadata": {
        "id": "E4Bhq8Gg0IJI",
        "outputId": "13d4d379-f00a-4dc8-e0fe-413787f50528",
        "colab": {
          "base_uri": "https://localhost:8080/"
        }
      },
      "execution_count": 65,
      "outputs": [
        {
          "output_type": "stream",
          "name": "stdout",
          "text": [
            "['1', '2', '3', 4, [4, 5, 6, '1', '2']]\n",
            "['1', '2', '3', 4, [4, 5, 6, '1', '2'], 4, 5, 6, '1', '2']\n",
            "['1', '2', '3', 4, [4, 5, 6, '1', '2'], 4, 5, 6, '1', '2']\n"
          ]
        }
      ]
    },
    {
      "cell_type": "code",
      "source": [
        "students=['sau','bau','mum','boom']\n",
        "# if we want to reverse we use reverse()\n",
        "students.reverse()\n",
        "print(students)"
      ],
      "metadata": {
        "id": "1FWU_8M_1uX5",
        "outputId": "097dcf69-d2b6-463a-db34-07d371dc1a76",
        "colab": {
          "base_uri": "https://localhost:8080/"
        }
      },
      "execution_count": 66,
      "outputs": [
        {
          "output_type": "stream",
          "name": "stdout",
          "text": [
            "['boom', 'mum', 'bau', 'sau']\n"
          ]
        }
      ]
    }
  ]
}